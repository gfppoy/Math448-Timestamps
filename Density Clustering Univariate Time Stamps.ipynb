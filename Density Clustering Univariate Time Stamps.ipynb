{
 "cells": [
  {
   "cell_type": "code",
   "execution_count": 49,
   "metadata": {},
   "outputs": [],
   "source": [
    "# One Dimensional Time Series Data - DBSCAN\n",
    "# Math 448, UBC 2019\n",
    "\n",
    "f = open(\"timestamps_n20_60mins_std0_acc120.txt\", \"r\")\n",
    "timestamps = []\n",
    "for timestamp in f:\n",
    "    timestamps.append(timestamp.strip())"
   ]
  },
  {
   "cell_type": "code",
   "execution_count": 50,
   "metadata": {},
   "outputs": [
    {
     "data": {
      "text/plain": [
       "['01/01/2019 12:00 AM',\n",
       " '01/01/2019 12:11 AM',\n",
       " '01/01/2019 12:25 AM',\n",
       " '01/01/2019 12:42 AM',\n",
       " '01/01/2019 01:02 AM',\n",
       " '01/01/2019 01:26 AM',\n",
       " '01/01/2019 01:55 AM',\n",
       " '01/01/2019 02:30 AM',\n",
       " '01/01/2019 03:11 AM',\n",
       " '01/01/2019 04:01 AM',\n",
       " '01/01/2019 05:01 AM',\n",
       " '01/01/2019 06:13 AM',\n",
       " '01/01/2019 07:40 AM',\n",
       " '01/01/2019 09:23 AM',\n",
       " '01/01/2019 11:28 AM',\n",
       " '01/01/2019 01:57 PM',\n",
       " '01/01/2019 04:56 PM',\n",
       " '01/01/2019 08:31 PM',\n",
       " '01/02/2019 12:49 AM',\n",
       " '01/02/2019 05:59 AM']"
      ]
     },
     "execution_count": 50,
     "metadata": {},
     "output_type": "execute_result"
    }
   ],
   "source": [
    "timestamps"
   ]
  },
  {
   "cell_type": "code",
   "execution_count": 51,
   "metadata": {},
   "outputs": [],
   "source": [
    "import time\n",
    "import datetime\n",
    "\n",
    "# convert from standard time format to timestamp\n",
    "for i in range(len(timestamps)):\n",
    "    timestamps[i] = time.mktime(datetime.datetime.strptime(timestamps[i], \"%m/%d/%Y %I:%M %p\").timetuple())"
   ]
  },
  {
   "cell_type": "code",
   "execution_count": 52,
   "metadata": {},
   "outputs": [
    {
     "data": {
      "text/plain": [
       "[1546329600.0,\n",
       " 1546330260.0,\n",
       " 1546331100.0,\n",
       " 1546332120.0,\n",
       " 1546333320.0,\n",
       " 1546334760.0,\n",
       " 1546336500.0,\n",
       " 1546338600.0,\n",
       " 1546341060.0,\n",
       " 1546344060.0,\n",
       " 1546347660.0,\n",
       " 1546351980.0,\n",
       " 1546357200.0,\n",
       " 1546363380.0,\n",
       " 1546370880.0,\n",
       " 1546379820.0,\n",
       " 1546390560.0,\n",
       " 1546403460.0,\n",
       " 1546418940.0,\n",
       " 1546437540.0]"
      ]
     },
     "execution_count": 52,
     "metadata": {},
     "output_type": "execute_result"
    }
   ],
   "source": [
    "timestamps"
   ]
  },
  {
   "cell_type": "code",
   "execution_count": 53,
   "metadata": {},
   "outputs": [],
   "source": [
    "# shift data so first event is at 0\n",
    "timestamps[:] = [x - timestamps[0] for x in timestamps]"
   ]
  },
  {
   "cell_type": "code",
   "execution_count": 54,
   "metadata": {},
   "outputs": [
    {
     "data": {
      "text/plain": [
       "[0.0,\n",
       " 660.0,\n",
       " 1500.0,\n",
       " 2520.0,\n",
       " 3720.0,\n",
       " 5160.0,\n",
       " 6900.0,\n",
       " 9000.0,\n",
       " 11460.0,\n",
       " 14460.0,\n",
       " 18060.0,\n",
       " 22380.0,\n",
       " 27600.0,\n",
       " 33780.0,\n",
       " 41280.0,\n",
       " 50220.0,\n",
       " 60960.0,\n",
       " 73860.0,\n",
       " 89340.0,\n",
       " 107940.0]"
      ]
     },
     "execution_count": 54,
     "metadata": {},
     "output_type": "execute_result"
    }
   ],
   "source": [
    "timestamps"
   ]
  },
  {
   "cell_type": "code",
   "execution_count": 55,
   "metadata": {},
   "outputs": [
    {
     "data": {
      "text/plain": [
       "[<matplotlib.lines.Line2D at 0x108c18410>]"
      ]
     },
     "execution_count": 55,
     "metadata": {},
     "output_type": "execute_result"
    },
    {
     "data": {
      "image/png": "[encoded data removed]",
      "text/plain": [
       "<Figure size 432x288 with 1 Axes>"
      ]
     },
     "metadata": {
      "needs_background": "light"
     },
     "output_type": "display_data"
    }
   ],
   "source": [
    "import matplotlib.pyplot as plt\n",
    "import numpy as np\n",
    "\n",
    "%matplotlib inline\n",
    "\n",
    "val = 0. # y-axis\n",
    "plt.plot(timestamps, np.zeros_like(timestamps) + val, 'x')"
   ]
  },
  {
   "cell_type": "code",
   "execution_count": 60,
   "metadata": {},
   "outputs": [],
   "source": [
    "# HyperParameters:\n",
    "epsilon = 30*60\n",
    "minNeighbours = 2\n",
    "\n",
    "# DBSCAN Implementation\n",
    "\n",
    "clusterLabel = 0 # use to assign timestamp to a cluster\n",
    "hasCluster = np.zeros(len(timestamps))\n",
    "\n",
    "# check if timestamp belongs to a cluster\n",
    "def timestampHasCluster(i):\n",
    "    return hasCluster[i] != 0\n",
    "\n",
    "# get all timestamps j such that |i-j| ≤ epsilon\n",
    "def getNeighbours(i):\n",
    "    neighbours = []\n",
    "    for j in range(len(timestamps)):\n",
    "        if j != i and abs(timestamps[i]-timestamps[j]) <= epsilon:\n",
    "            neighbours.append(j)\n",
    "    return neighbours\n",
    "\n",
    "# check if timestamp satisfies |neighbours| ≥ minNeighbours\n",
    "def isCore(neighbours):\n",
    "    return len(neighbours) >= minNeighbours\n",
    "\n",
    "# assign all neighbours to same cluster as i, recursively call expandCluster on neighbours which are core points themselves\n",
    "def expandCluster(i, neighbours):\n",
    "    for neighbour in neighbours:\n",
    "        if hasCluster[neighbour] != clusterLabel:\n",
    "            hasCluster[neighbour] = clusterLabel\n",
    "            neighbours_of_neighbour = getNeighbours(neighbour)\n",
    "            if isCore(neighbours_of_neighbour):\n",
    "                expandCluster(neighbour, neighbours_of_neighbour)\n",
    "\n",
    "# DBSCAN\n",
    "for i in range(len(timestamps)):\n",
    "    if not timestampHasCluster(i):\n",
    "        neighbours = getNeighbours(i)\n",
    "        if isCore(neighbours):\n",
    "            clusterLabel += 1\n",
    "            hasCluster[i] = clusterLabel\n",
    "            expandCluster(i, neighbours)"
   ]
  },
  {
   "cell_type": "code",
   "execution_count": 61,
   "metadata": {},
   "outputs": [
    {
     "data": {
      "text/plain": [
       "array([ 1.,  1.,  1.,  1.,  1.,  1.,  1.,  0.,  0.,  0.,  0.,  0.,  0.,\n",
       "        0.,  0.,  0.,  0.,  0.,  0.,  0.])"
      ]
     },
     "execution_count": 61,
     "metadata": {},
     "output_type": "execute_result"
    }
   ],
   "source": [
    "hasCluster"
   ]
  },
  {
   "cell_type": "code",
   "execution_count": null,
   "metadata": {},
   "outputs": [],
   "source": []
  }
 ],
 "metadata": {
  "kernelspec": {
   "display_name": "Python 2",
   "language": "python",
   "name": "python2"
  },
  "language_info": {
   "codemirror_mode": {
    "name": "ipython",
    "version": 2
   },
   "file_extension": ".py",
   "mimetype": "text/x-python",
   "name": "python",
   "nbconvert_exporter": "python",
   "pygments_lexer": "ipython2",
   "version": "2.7.12"
  }
 },
 "nbformat": 4,
 "nbformat_minor": 2
}
