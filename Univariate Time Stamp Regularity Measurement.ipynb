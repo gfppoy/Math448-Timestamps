{
 "cells": [
  {
   "cell_type": "code",
   "execution_count": 1,
   "metadata": {},
   "outputs": [],
   "source": [
    "# One Dimensional Time Series Data - Regularity Measure\n",
    "# Math 448, UBC 2019\n",
    "\n",
    "f = open(\"timestamps_n20_60mins_std5_acc100.txt\", \"r\")\n",
    "timestamps = []\n",
    "for timestamp in f:\n",
    "    timestamps.append(timestamp.strip())"
   ]
  },
  {
   "cell_type": "code",
   "execution_count": 2,
   "metadata": {},
   "outputs": [
    {
     "data": {
      "text/plain": [
       "['01/01/2019 12:00 AM',\n",
       " '01/01/2019 01:00 AM',\n",
       " '01/01/2019 01:59 AM',\n",
       " '01/01/2019 02:59 AM',\n",
       " '01/01/2019 04:05 AM',\n",
       " '01/01/2019 05:09 AM',\n",
       " '01/01/2019 06:06 AM',\n",
       " '01/01/2019 07:01 AM',\n",
       " '01/01/2019 08:03 AM',\n",
       " '01/01/2019 09:12 AM',\n",
       " '01/01/2019 10:15 AM',\n",
       " '01/01/2019 11:12 AM',\n",
       " '01/01/2019 12:20 PM',\n",
       " '01/01/2019 01:13 PM',\n",
       " '01/01/2019 02:18 PM',\n",
       " '01/01/2019 03:26 PM',\n",
       " '01/01/2019 04:24 PM',\n",
       " '01/01/2019 05:25 PM',\n",
       " '01/01/2019 06:17 PM',\n",
       " '01/01/2019 07:14 PM']"
      ]
     },
     "execution_count": 2,
     "metadata": {},
     "output_type": "execute_result"
    }
   ],
   "source": [
    "timestamps"
   ]
  },
  {
   "cell_type": "code",
   "execution_count": 3,
   "metadata": {},
   "outputs": [],
   "source": [
    "import time\n",
    "import datetime\n",
    "\n",
    "# convert from standard time format to timestamp\n",
    "for i in range(len(timestamps)):\n",
    "    timestamps[i] = time.mktime(datetime.datetime.strptime(timestamps[i], \"%m/%d/%Y %I:%M %p\").timetuple())"
   ]
  },
  {
   "cell_type": "code",
   "execution_count": 4,
   "metadata": {},
   "outputs": [
    {
     "data": {
      "text/plain": [
       "[1546329600.0,\n",
       " 1546333200.0,\n",
       " 1546336740.0,\n",
       " 1546340340.0,\n",
       " 1546344300.0,\n",
       " 1546348140.0,\n",
       " 1546351560.0,\n",
       " 1546354860.0,\n",
       " 1546358580.0,\n",
       " 1546362720.0,\n",
       " 1546366500.0,\n",
       " 1546369920.0,\n",
       " 1546374000.0,\n",
       " 1546377180.0,\n",
       " 1546381080.0,\n",
       " 1546385160.0,\n",
       " 1546388640.0,\n",
       " 1546392300.0,\n",
       " 1546395420.0,\n",
       " 1546398840.0]"
      ]
     },
     "execution_count": 4,
     "metadata": {},
     "output_type": "execute_result"
    }
   ],
   "source": [
    "timestamps"
   ]
  },
  {
   "cell_type": "code",
   "execution_count": 5,
   "metadata": {},
   "outputs": [],
   "source": [
    "# shift data so first event is at 0\n",
    "timestamps[:] = [x - timestamps[0] for x in timestamps]"
   ]
  },
  {
   "cell_type": "code",
   "execution_count": 6,
   "metadata": {},
   "outputs": [
    {
     "data": {
      "text/plain": [
       "[0.0,\n",
       " 3600.0,\n",
       " 7140.0,\n",
       " 10740.0,\n",
       " 14700.0,\n",
       " 18540.0,\n",
       " 21960.0,\n",
       " 25260.0,\n",
       " 28980.0,\n",
       " 33120.0,\n",
       " 36900.0,\n",
       " 40320.0,\n",
       " 44400.0,\n",
       " 47580.0,\n",
       " 51480.0,\n",
       " 55560.0,\n",
       " 59040.0,\n",
       " 62700.0,\n",
       " 65820.0,\n",
       " 69240.0]"
      ]
     },
     "execution_count": 6,
     "metadata": {},
     "output_type": "execute_result"
    }
   ],
   "source": [
    "# Thus timestamps gives the point in time of occurence for each event from the first event\n",
    "timestamps"
   ]
  },
  {
   "cell_type": "code",
   "execution_count": 7,
   "metadata": {},
   "outputs": [],
   "source": [
    "# To detect regularity in timestamps given a certain temporal periodicity, we can consider the more general problem\n",
    "# of detecting regularity of timestamps of a certain event type, and thereby consider this an instance where we\n",
    "# discretize time by the second, and label the occurence of an event as '1', and label every other point in time\n",
    "# as '0'\n",
    "\n",
    "# e.g. if timestamps = [0, 1, 5, 7] then event_sequence = [1, 1, 0, 0, 1, 0, 1]\n",
    "\n",
    "import matplotlib.pyplot as plt\n",
    "import numpy as np\n",
    "\n",
    "event_sequence = np.zeros(int(timestamps[len(timestamps)-1])+1)\n",
    "\n",
    "j = 0 # iterator over timestamps\n",
    "for i in range(len(event_sequence)):\n",
    "    if i == timestamps[j]:\n",
    "        event_sequence[i] = 1\n",
    "        j += 1"
   ]
  },
  {
   "cell_type": "code",
   "execution_count": 8,
   "metadata": {},
   "outputs": [],
   "source": [
    "period = 3600 # Model where period is provided "
   ]
  },
  {
   "cell_type": "code",
   "execution_count": 9,
   "metadata": {},
   "outputs": [
    {
     "data": {
      "text/plain": [
       "13320"
      ]
     },
     "execution_count": 9,
     "metadata": {},
     "output_type": "execute_result"
    }
   ],
   "source": [
    "# One possible loss function, sum over deviations of timestamps from 0, period, 2*period, ..., n-1*period, respectively\n",
    "\n",
    "error = 0\n",
    "n = int(np.sum(event_sequence))\n",
    "\n",
    "# computes residual difference between expected location assuming perfect regularity and actuality\n",
    "# residual = |expected-actuality| if |expected-actuality| < period/2, o.w. residual = period/2\n",
    "def residual(expected, period, event_sequence):\n",
    "    for i in range(int(period/2)):\n",
    "        if ((expected + i < len(event_sequence)) and event_sequence[expected + i] == 1):\n",
    "            return i\n",
    "        elif ((expected - i > 0) and event_sequence[expected - i] == 1):\n",
    "            return i\n",
    "    return period/2\n",
    "\n",
    "for i in range(n):\n",
    "    error += residual(period*i, period, event_sequence)\n",
    "error"
   ]
  },
  {
   "cell_type": "code",
   "execution_count": 10,
   "metadata": {},
   "outputs": [
    {
     "data": {
      "text/plain": [
       "8280"
      ]
     },
     "execution_count": 10,
     "metadata": {},
     "output_type": "execute_result"
    }
   ],
   "source": [
    "# Loss function we will employ: sum over |(timestamp_i+1 - timestamp_i) - period|\n",
    "\n",
    "error = 0\n",
    "prev = 0\n",
    "\n",
    "for i in range(len(event_sequence)):\n",
    "    if event_sequence[i] == 1:\n",
    "        error += abs(i-prev-period)\n",
    "        prev = i\n",
    "error"
   ]
  },
  {
   "cell_type": "code",
   "execution_count": 11,
   "metadata": {},
   "outputs": [],
   "source": [
    "# Model where we detect period\n",
    "# First compute differences between timestamps\n",
    "differences = np.zeros(n - 1)\n",
    "\n",
    "count = 1\n",
    "j = 0 # index of differences\n",
    "for i in range(len(event_sequence)):\n",
    "    if i == 0:\n",
    "        i += 1\n",
    "    elif event_sequence[i] == 1:\n",
    "        differences[j] = count\n",
    "        j += 1\n",
    "        count = 1\n",
    "    else:\n",
    "        count += 1"
   ]
  },
  {
   "cell_type": "code",
   "execution_count": 12,
   "metadata": {},
   "outputs": [
    {
     "data": {
      "text/plain": [
       "array([ 3600.,  3540.,  3600.,  3960.,  3840.,  3420.,  3300.,  3720.,\n",
       "        4140.,  3780.,  3420.,  4080.,  3180.,  3900.,  4080.,  3480.,\n",
       "        3660.,  3120.,  3420.])"
      ]
     },
     "execution_count": 12,
     "metadata": {},
     "output_type": "execute_result"
    }
   ],
   "source": [
    "differences"
   ]
  },
  {
   "cell_type": "code",
   "execution_count": 13,
   "metadata": {},
   "outputs": [],
   "source": [
    "# period = argmin f(p) = sum_{1 to n-1}[|differences[i] - p|]\n",
    "# optimization problem can be formulated as a linear program\n",
    "\n",
    "from scipy.optimize import linprog\n",
    "\n",
    "c = np.ones(n)\n",
    "c[n-1] = 0\n",
    "\n",
    "b = np.zeros(2*(n-1))\n",
    "for i in range(n-1):\n",
    "    b[2*i] = -differences[i]\n",
    "    b[2*i+1] = differences[i]\n",
    "\n",
    "A = np.zeros((2*(n-1), n))\n",
    "for i in range(n-1):\n",
    "    A[2*i, i] = -1\n",
    "    A[2*i, n-1] = -1\n",
    "    A[2*i+1, i] = -1\n",
    "    A[2*i+1, n-1] = 1\n",
    "    \n",
    "res = linprog(c, A_ub=A, b_ub=b)"
   ]
  },
  {
   "cell_type": "code",
   "execution_count": 14,
   "metadata": {},
   "outputs": [
    {
     "data": {
      "text/plain": [
       "3600.0"
      ]
     },
     "execution_count": 14,
     "metadata": {},
     "output_type": "execute_result"
    }
   ],
   "source": [
    "minimizing_period = res.x[n-1]\n",
    "minimizing_period"
   ]
  },
  {
   "cell_type": "code",
   "execution_count": 15,
   "metadata": {},
   "outputs": [
    {
     "data": {
      "text/plain": [
       "0.87612193721397758"
      ]
     },
     "execution_count": 15,
     "metadata": {},
     "output_type": "execute_result"
    }
   ],
   "source": [
    "# Regularity measure: gaussian\n",
    "np.exp(-np.power(error, 2.) / (2*n * np.power(period, 2.)))"
   ]
  },
  {
   "cell_type": "code",
   "execution_count": null,
   "metadata": {},
   "outputs": [],
   "source": []
  }
 ],
 "metadata": {
  "kernelspec": {
   "display_name": "Python 2",
   "language": "python",
   "name": "python2"
  },
  "language_info": {
   "codemirror_mode": {
    "name": "ipython",
    "version": 2
   },
   "file_extension": ".py",
   "mimetype": "text/x-python",
   "name": "python",
   "nbconvert_exporter": "python",
   "pygments_lexer": "ipython2",
   "version": "2.7.12"
  }
 },
 "nbformat": 4,
 "nbformat_minor": 2
}
