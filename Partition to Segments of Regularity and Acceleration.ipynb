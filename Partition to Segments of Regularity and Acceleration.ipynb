{
 "cells": [
  {
   "cell_type": "code",
   "execution_count": 37,
   "metadata": {},
   "outputs": [],
   "source": [
    "import time\n",
    "import csv\n",
    "from datetime import datetime,timedelta\n",
    "import numpy as np"
   ]
  },
  {
   "cell_type": "code",
   "execution_count": 206,
   "metadata": {},
   "outputs": [],
   "source": [
    "# [0:5] regular with period about 60, \n",
    "# [5:14] constant acceleration of about 12, \n",
    "# [14:20] constant deceleration of about 8,\n",
    "# [20:24] regular with period about 30\n",
    "\n",
    "timestamps = [0, 60.3, 121.1, 180.9, 241.9, 301.0, 307.3, 331.3, 366.9, 417.0, 478.7, 550.8, 632.6, 726.5, 831.6, 928.7, 1018.0, 1099.1, 1172.3, 1237.5, 1294.7, 1325.0, 1354.6, 1384.5, 1414.9]"
   ]
  },
  {
   "cell_type": "code",
   "execution_count": 207,
   "metadata": {},
   "outputs": [],
   "source": [
    "n = len(timestamps)\n",
    "\n",
    "diffs = np.zeros(n - 1)\n",
    "diff_of_diffs = np.zeros(n - 2)\n",
    "\n",
    "j = 0 # index of diffs\n",
    "for i in range(n):\n",
    "    if i+1 < n:\n",
    "        diffs[j] = timestamps[i+1] - timestamps[i]\n",
    "        j += 1\n",
    "        \n",
    "j = 0  # index of diff_of_diffs\n",
    "for i in range(n - 1):\n",
    "    if i+1 < n - 1:\n",
    "        diff_of_diffs[j] = diffs[i+1] - diffs[i]\n",
    "        j += 1"
   ]
  },
  {
   "cell_type": "code",
   "execution_count": 208,
   "metadata": {},
   "outputs": [],
   "source": [
    "lam = 10 # hyperparameter\n",
    "\n",
    "class Segment:\n",
    "    start_index = 0\n",
    "    end_index   = 0\n",
    "    kind = \"reg\"\n",
    "    value = 0\n",
    "    \n",
    "    def set_start_index(self, index):\n",
    "        self.start_index = index\n",
    "    def set_end_index(self, index):\n",
    "        self.end_index = index\n",
    "    def set_kind(self, kind):\n",
    "        self.kind = kind\n",
    "    def set_value(self, value):\n",
    "        self.value = value\n",
    "\n",
    "def median(lst):\n",
    "    n = len(lst)\n",
    "    if n < 1:\n",
    "            return None\n",
    "    if n % 2 == 1:\n",
    "            return sorted(lst)[n//2]\n",
    "    else:\n",
    "            return sum(sorted(lst)[n//2-1:n//2+1])/2.\n",
    "        \n",
    "        \n",
    "# Algorithm\n",
    "partitions = [ [] for i in range(n)]\n",
    "tot_error = np.zeros(n) # ith index contains total error of all partitions up to timestamp i\n",
    "\n",
    "for i in range(n):\n",
    "    if i == 0:\n",
    "        tot_error[0] = lam\n",
    "        \n",
    "    if i == 1:\n",
    "        segment = Segment()\n",
    "        segment.set_start_index(0)\n",
    "        segment.set_end_index(1)\n",
    "        segment.set_kind(\"reg\")\n",
    "        segment.set_value(timestamps[1] - timestamps[0])\n",
    "        partitions[1] = np.append(partitions[1], segment)\n",
    "        tot_error[1] = lam\n",
    "    \n",
    "    else:\n",
    "        minimizer = 0 # minimizing index of partition split\n",
    "        min_cost = 0\n",
    "        min_fit_kind = \".\"\n",
    "        min_fit = 0\n",
    "        for j in range(i):\n",
    "            acc_fit = median(diff_of_diffs[j:i-2])\n",
    "            if j == i-2:\n",
    "                acc_fit = diff_of_diffs[i-2]\n",
    "            reg_fit = median(diffs[j:i-1])\n",
    "            if j == i-1:\n",
    "                reg_fit = diffs[i-1]\n",
    "\n",
    "            if acc_fit is float and abs(acc_fit) < 0.1:\n",
    "                acc_fit = 0\n",
    "            \n",
    "            reg_error = 0\n",
    "            for k in range(j, i):\n",
    "                reg_error += abs(reg_fit-diffs[k])\n",
    "\n",
    "            acc_error = 0\n",
    "            if j != i-1:\n",
    "                for k in range(j, i-1):\n",
    "                    acc_error += abs(acc_fit-diff_of_diffs[k])\n",
    "            else:\n",
    "                acc_error = float(\"inf\")\n",
    "\n",
    "            if j == 0:\n",
    "                if reg_error <= acc_error:\n",
    "                    min_cost = reg_error + lam\n",
    "                    min_fit_kind = \"reg\"\n",
    "                    min_fit = reg_fit\n",
    "                else:\n",
    "                    min_cost = acc_error + lam\n",
    "                    min_fit_kind = \"acc\"\n",
    "                    min_fit = acc_fit\n",
    "            else:\n",
    "                if tot_error[j] + reg_error + lam <  min_cost:\n",
    "                    minimizer = j\n",
    "                    min_cost = tot_error[j] + reg_error + lam\n",
    "                    min_fit_kind = \"reg\"\n",
    "                    min_fit = reg_fit\n",
    "                elif tot_error[j] + acc_error + lam <  min_cost:\n",
    "                    minimizer = j\n",
    "                    min_cost = tot_error[j] + acc_error + lam\n",
    "                    min_fit_kind = \"acc\"\n",
    "                    min_fit = acc_fit\n",
    "\n",
    "        tot_error[i] = min_cost\n",
    "\n",
    "        segment = Segment()\n",
    "        segment.set_start_index(minimizer)\n",
    "        segment.set_end_index(i)\n",
    "        segment.set_kind(min_fit_kind)\n",
    "        segment.set_value(min_fit)\n",
    "        if minimizer == 0:\n",
    "            partitions[i] = np.append(partitions[i], segment)\n",
    "        else:\n",
    "            partitions[i] = np.append(partitions[minimizer], segment)\n",
    "        "
   ]
  },
  {
   "cell_type": "code",
   "execution_count": 219,
   "metadata": {},
   "outputs": [
    {
     "data": {
      "text/plain": [
       "array([<__main__.Segment instance at 0x104fb1f38>,\n",
       "       <__main__.Segment instance at 0x104fb1c20>,\n",
       "       <__main__.Segment instance at 0x104fb1e18>,\n",
       "       <__main__.Segment instance at 0x104ed26c8>], dtype=object)"
      ]
     },
     "execution_count": 219,
     "metadata": {},
     "output_type": "execute_result"
    }
   ],
   "source": [
    "partitions[n-1]"
   ]
  },
  {
   "cell_type": "code",
   "execution_count": 229,
   "metadata": {},
   "outputs": [
    {
     "data": {
      "text/plain": [
       "Text(1324.75,0.02,'reg: 29.9')"
      ]
     },
     "execution_count": 229,
     "metadata": {},
     "output_type": "execute_result"
    },
    {
     "data": {
      "image/png": "[encoded data removed]",
      "text/plain": [
       "<Figure size 432x288 with 1 Axes>"
      ]
     },
     "metadata": {
      "needs_background": "light"
     },
     "output_type": "display_data"
    }
   ],
   "source": [
    "import matplotlib.pyplot as plt\n",
    "\n",
    "%matplotlib inline\n",
    "\n",
    "val = 0. # y-axis\n",
    "plt.plot(timestamps, np.zeros_like(timestamps) + val, 'x')\n",
    "\n",
    "plt.axvline(x=timestamps[partitions[n-1][0].end_index])\n",
    "plt.axvline(x=timestamps[partitions[n-1][1].end_index])\n",
    "plt.axvline(x=timestamps[partitions[n-1][2].end_index])\n",
    "plt.axvline(x=timestamps[partitions[n-1][3].end_index])\n",
    "\n",
    "first_loc = 0.75*timestamps[partitions[n-1][0].start_index]+0.25*timestamps[partitions[n-1][0].end_index]\n",
    "second_loc = 0.75*timestamps[partitions[n-1][1].start_index]+0.25*timestamps[partitions[n-1][1].end_index]\n",
    "third_loc = 0.75*timestamps[partitions[n-1][2].start_index]+0.25*timestamps[partitions[n-1][2].end_index]\n",
    "fourth_loc = 0.75*timestamps[partitions[n-1][3].start_index]+0.25*timestamps[partitions[n-1][3].end_index]\n",
    "\n",
    "first_text = partitions[n-1][0].kind + \": \" + str(partitions[n-1][0].value)\n",
    "second_text = partitions[n-1][1].kind + \": \" + str(partitions[n-1][1].value)\n",
    "third_text = partitions[n-1][2].kind + \": \" + str(partitions[n-1][2].value)\n",
    "fourth_text = partitions[n-1][3].kind + \": \" + str(partitions[n-1][3].value)\n",
    "\n",
    "plt.text(first_loc, 0.02, first_text, bbox=dict(facecolor='red', alpha=0.5))\n",
    "plt.text(second_loc, 0.02, second_text, bbox=dict(facecolor='red', alpha=0.5))\n",
    "plt.text(third_loc, 0.02, third_text, bbox=dict(facecolor='red', alpha=0.5))\n",
    "plt.text(fourth_loc, 0.02, fourth_text, bbox=dict(facecolor='red', alpha=0.5))"
   ]
  },
  {
   "cell_type": "code",
   "execution_count": null,
   "metadata": {},
   "outputs": [],
   "source": []
  }
 ],
 "metadata": {
  "kernelspec": {
   "display_name": "Python 2",
   "language": "python",
   "name": "python2"
  },
  "language_info": {
   "codemirror_mode": {
    "name": "ipython",
    "version": 2
   },
   "file_extension": ".py",
   "mimetype": "text/x-python",
   "name": "python",
   "nbconvert_exporter": "python",
   "pygments_lexer": "ipython2",
   "version": "2.7.12"
  }
 },
 "nbformat": 4,
 "nbformat_minor": 2
}
