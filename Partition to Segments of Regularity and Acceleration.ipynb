{
 "cells": [
  {
   "cell_type": "code",
   "execution_count": 30,
   "metadata": {},
   "outputs": [],
   "source": [
    "import numpy as np"
   ]
  },
  {
   "cell_type": "code",
   "execution_count": 31,
   "metadata": {},
   "outputs": [],
   "source": [
    "# [0:5] regular with period about 60, \n",
    "# [5:14] constant acceleration of about 12, \n",
    "# [14:20] constant deceleration of about 8,\n",
    "# [20:24] regular with period about 30\n",
    "\n",
    "distances = np.array([0, 60.3, 121.1, 180.9, 241.9, 301.0, 307.3, 331.3, 366.9, 417.0, 478.7, 550.8, 632.6, 726.5, 831.6, 928.7, 1018.0, 1099.1, 1172.3, 1237.5, 1294.7, 1325.0, 1354.6, 1384.5, 1414.9])"
   ]
  },
  {
   "cell_type": "code",
   "execution_count": 32,
   "metadata": {},
   "outputs": [],
   "source": [
    "n = len(distances)\n",
    "\n",
    "velocities = np.array([y - x for (x, y) in zip(distances, distances[1:])])\n",
    "accelerations = np.array([y - x for (x, y) in zip(velocities, velocities[1:])])"
   ]
  },
  {
   "cell_type": "code",
   "execution_count": 39,
   "metadata": {},
   "outputs": [],
   "source": [
    "def r(j, k):\n",
    "    m = np.median(velocities[j:k])\n",
    "    return m, np.linalg.norm(velocities[j:k] - m, ord=1)\n",
    "\n",
    "def a(j, k):\n",
    "    m = np.median(accelerations[j:k-1])\n",
    "    return m, np.linalg.norm(accelerations[j:k-1] - m, ord=1)\n",
    "\n",
    "def fit_segment(j, k): # fits the segment from j to k and returns the type, error, and value\n",
    "    (r_val, r_err), (a_val, a_err) = r(j, k), a(j, k)\n",
    "    if a_err < r_err:\n",
    "        return 'accelerating', a_err, a_val\n",
    "    else:\n",
    "        return 'regular', r_err, r_val"
   ]
  },
  {
   "cell_type": "code",
   "execution_count": 40,
   "metadata": {},
   "outputs": [
    {
     "data": {
      "text/plain": [
       "[{'start': 0,\n",
       "  'end': 6,\n",
       "  'type': 'accelerating',\n",
       "  'error': -3045.599999999998,\n",
       "  'value': -0.9999999999999858},\n",
       " {'start': 6,\n",
       "  'end': 8,\n",
       "  'type': 'accelerating',\n",
       "  'error': 0.0,\n",
       "  'value': 11.599999999999966},\n",
       " {'start': 8,\n",
       "  'end': 11,\n",
       "  'type': 'regular',\n",
       "  'error': 21.999999999999943,\n",
       "  'value': 61.69999999999999},\n",
       " {'start': 11,\n",
       "  'end': 24,\n",
       "  'type': 'accelerating',\n",
       "  'error': -4245.639999999999,\n",
       "  'value': -7.849999999999966}]"
      ]
     },
     "execution_count": 40,
     "metadata": {},
     "output_type": "execute_result"
    }
   ],
   "source": [
    "λ = 10 # hyperparameter\n",
    "\n",
    "D = np.zeros(n)\n",
    "partitions = [[0], [0, 1]]\n",
    "partition_segments = [[], []]\n",
    "\n",
    "for i in range(2, n):\n",
    "    min_k = 0\n",
    "    segment = fit_segment(0, i)\n",
    "    min_cost = segment[1] + λ\n",
    "    for k in range(2, i - 1):\n",
    "        seg = fit_segment(k, i)\n",
    "        cost = D[k] + seg[1] + λ\n",
    "        if cost < min_cost:\n",
    "            min_cost, min_k, segment = cost, k, seg\n",
    "    D[i] = min_cost\n",
    "    partitions.append(partitions[min_k] + [i])\n",
    "    partition_segments.append(partition_segments[min_k] + [segment])\n",
    "\n",
    "best_partition = zip(zip(partitions[-1], partitions[-1][1:]), partition_segments[-1])\n",
    "best_partition = [dict(start=intvl[0], end=intvl[1], type=seg[0], error=seg[1], value=seg[2])\n",
    "                  for (intvl, seg) in best_partition]\n",
    "\n",
    "best_partition"
   ]
  },
  {
   "cell_type": "code",
   "execution_count": 29,
   "metadata": {},
   "outputs": [],
   "source": [
    "# import matplotlib.pyplot as plt\n",
    "\n",
    "# %matplotlib inline\n",
    "\n",
    "# val = 0. # y-axis\n",
    "# plt.plot(timestamps, np.zeros_like(timestamps) + val, 'x')\n",
    "\n",
    "# plt.axvline(x=timestamps[partitions[n-1][0].end_index])\n",
    "# plt.axvline(x=timestamps[partitions[n-1][1].end_index])\n",
    "# plt.axvline(x=timestamps[partitions[n-1][2].end_index])\n",
    "# plt.axvline(x=timestamps[partitions[n-1][3].end_index])\n",
    "\n",
    "# first_loc = 0.75*timestamps[partitions[n-1][0].start_index]+0.25*timestamps[partitions[n-1][0].end_index]\n",
    "# second_loc = 0.75*timestamps[partitions[n-1][1].start_index]+0.25*timestamps[partitions[n-1][1].end_index]\n",
    "# third_loc = 0.75*timestamps[partitions[n-1][2].start_index]+0.25*timestamps[partitions[n-1][2].end_index]\n",
    "# fourth_loc = 0.75*timestamps[partitions[n-1][3].start_index]+0.25*timestamps[partitions[n-1][3].end_index]\n",
    "\n",
    "# first_text = partitions[n-1][0].kind + \": \" + str(partitions[n-1][0].value)\n",
    "# second_text = partitions[n-1][1].kind + \": \" + str(partitions[n-1][1].value)\n",
    "# third_text = partitions[n-1][2].kind + \": \" + str(partitions[n-1][2].value)\n",
    "# fourth_text = partitions[n-1][3].kind + \": \" + str(partitions[n-1][3].value)\n",
    "\n",
    "# plt.text(first_loc, 0.02, first_text, bbox=dict(facecolor='red', alpha=0.5))\n",
    "# plt.text(second_loc, 0.02, second_text, bbox=dict(facecolor='red', alpha=0.5))\n",
    "# plt.text(third_loc, 0.02, third_text, bbox=dict(facecolor='red', alpha=0.5))\n",
    "# plt.text(fourth_loc, 0.02, fourth_text, bbox=dict(facecolor='red', alpha=0.5))"
   ]
  }
 ],
 "metadata": {
  "kernelspec": {
   "display_name": "Python 3",
   "language": "python",
   "name": "python3"
  },
  "language_info": {
   "codemirror_mode": {
    "name": "ipython",
    "version": 3
   },
   "file_extension": ".py",
   "mimetype": "text/x-python",
   "name": "python",
   "nbconvert_exporter": "python",
   "pygments_lexer": "ipython3",
   "version": "3.7.0"
  }
 },
 "nbformat": 4,
 "nbformat_minor": 2
}
