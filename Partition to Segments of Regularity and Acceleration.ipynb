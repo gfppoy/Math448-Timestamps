{
 "cells": [
  {
   "cell_type": "code",
   "execution_count": 5,
   "metadata": {},
   "outputs": [],
   "source": [
    "import numpy as np\n",
    "\n",
    "\n",
    "def r(j, k, velocities):\n",
    "    m = np.median(velocities[j:k])\n",
    "    return m, np.linalg.norm(velocities[j:k] - m, ord=1)\n",
    "\n",
    "def a(j, k, accelerations):\n",
    "    m = np.median(accelerations[j:k-1])\n",
    "    return m, np.linalg.norm(accelerations[j:k-1] - m, ord=1)\n",
    "\n",
    "def fit_segment(j, k, acc, vel): # fits the segment from j to k and returns the type, error, and value\n",
    "    (r_val, r_err), (a_val, a_err) = r(j, k, vel), a(j, k, acc)\n",
    "    if a_err < r_err:\n",
    "        return 'accelerating', a_err, a_val\n",
    "    else:\n",
    "        return 'regular', r_err, r_val\n",
    "\n",
    "def find_optimal_partition(distances, λ=10):\n",
    "    n = len(distances)\n",
    "    velocities = np.array([y - x for (x, y) in zip(distances, distances[1:])])\n",
    "    accelerations = np.array([y - x for (x, y) in zip(velocities, velocities[1:])])\n",
    "    \n",
    "    D = np.zeros(n)\n",
    "    partitions = [[0], [0, 1]]\n",
    "    partition_segments = [[], []]\n",
    "\n",
    "    for i in range(2, n):\n",
    "        min_k = 0\n",
    "        segment = fit_segment(0, i, accelerations, velocities)\n",
    "        min_cost = segment[1] + λ\n",
    "        for k in range(2, i - 1):\n",
    "            seg = fit_segment(k, i, accelerations, velocities)\n",
    "            cost = D[k] + seg[1] + λ\n",
    "            if cost < min_cost:\n",
    "                min_cost, min_k, segment = cost, k, seg\n",
    "        D[i] = min_cost\n",
    "        partitions.append(partitions[min_k] + [i])\n",
    "        partition_segments.append(partition_segments[min_k] + [segment])\n",
    "\n",
    "    best_partition = zip(zip(partitions[-1], partitions[-1][1:]), partition_segments[-1])\n",
    "    return [dict(start=intvl[0], end=intvl[1], type=seg[0], error=seg[1], value=seg[2]) \n",
    "            for (intvl, seg) in best_partition]"
   ]
  },
  {
   "cell_type": "code",
   "execution_count": 7,
   "metadata": {},
   "outputs": [
    {
     "data": {
      "text/plain": [
       "[{'start': 0,\n",
       "  'end': 5,\n",
       "  'type': 'regular',\n",
       "  'error': 2.8999999999999915,\n",
       "  'value': 60.3},\n",
       " {'start': 5,\n",
       "  'end': 13,\n",
       "  'type': 'accelerating',\n",
       "  'error': 12.599999999999909,\n",
       "  'value': 11.599999999999966},\n",
       " {'start': 13,\n",
       "  'end': 20,\n",
       "  'type': 'accelerating',\n",
       "  'error': 0.5000000000001137,\n",
       "  'value': -8.0},\n",
       " {'start': 20,\n",
       "  'end': 24,\n",
       "  'type': 'regular',\n",
       "  'error': 1.2000000000000455,\n",
       "  'value': 30.100000000000023}]"
      ]
     },
     "execution_count": 7,
     "metadata": {},
     "output_type": "execute_result"
    }
   ],
   "source": [
    "# [0:5] regular with period about 60, \n",
    "# [5:13] constant acceleration of about 12, \n",
    "# [13:20] constant deceleration of about 8,\n",
    "# [20:24] regular with period about 30\n",
    "\n",
    "distances = np.array([0, 60.3, 121.1, 180.9, 241.9, 301.0, 307.3, 331.3, 366.9, 417.0, 478.7, 550.8, 632.6, 726.5, 831.6, 928.7, 1018.0, 1099.1, 1172.3, 1237.5, 1294.7, 1325.0, 1354.6, 1384.5, 1414.9])\n",
    "\n",
    "find_optimal_partition(distances)"
   ]
  },
  {
   "cell_type": "code",
   "execution_count": 35,
   "metadata": {},
   "outputs": [],
   "source": [
    "# First attempt at a better acceleration metric. Returns two values, representing the inconsistency \n",
    "# and magnitude of acceleration.\n",
    "\n",
    "# TODO: Third value of metric could be the area under velocity curve of acceleration vs total area \n",
    "# under curve, which represents the degree to which the sequence is accelerating.\n",
    "\n",
    "# TODO: Should we be scaling by size of sequence or length in time? Which one results in a more\n",
    "# useful metric?\n",
    "\n",
    "\n",
    "def helper(part):\n",
    "    weights = [seg['end'] - seg['start'] for seg in part] # scaling by sequence length\n",
    "            # [distances[seg['end']] - distances[seg['start']] for seg in part]\n",
    "    values = [seg['value'] if seg['type'] == 'accelerating' else 0 for seg in part]\n",
    "    average = np.average(values, weights=weights) # TODO: weighted median instead of mean?\n",
    "    variance = np.average((values - average)**2, weights=weights) # TODO: unbiased variance for small sequences?\n",
    "    \n",
    "    return np.sqrt(variance), average\n",
    "\n",
    "def acceleration_metric(distances, λ=0):\n",
    "    opt_part = find_optimal_partition(distances, λ=λ)\n",
    "    return helper(opt_part)"
   ]
  },
  {
   "cell_type": "code",
   "execution_count": 36,
   "metadata": {},
   "outputs": [
    {
     "data": {
      "text/plain": [
       "(0.8634593969478326, 0.8461538461538461)"
      ]
     },
     "execution_count": 36,
     "metadata": {},
     "output_type": "execute_result"
    }
   ],
   "source": [
    "# [0:4] acceleration 1\n",
    "# [3:8] acceleration 2\n",
    "# [8:13] regular 12 (acceleration 0)\n",
    "\n",
    "distances = [0, 1, 3, 6, 10, 16, 24, 34, 46, 58, 70, 82, 94, 106]\n",
    "\n",
    "acceleration_metric(distances)"
   ]
  },
  {
   "cell_type": "code",
   "execution_count": null,
   "metadata": {},
   "outputs": [],
   "source": []
  }
 ],
 "metadata": {
  "kernelspec": {
   "display_name": "Python 3",
   "language": "python",
   "name": "python3"
  },
  "language_info": {
   "codemirror_mode": {
    "name": "ipython",
    "version": 3
   },
   "file_extension": ".py",
   "mimetype": "text/x-python",
   "name": "python",
   "nbconvert_exporter": "python",
   "pygments_lexer": "ipython3",
   "version": "3.7.0"
  }
 },
 "nbformat": 4,
 "nbformat_minor": 2
}
