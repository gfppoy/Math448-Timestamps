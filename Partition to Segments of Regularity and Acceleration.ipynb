{
 "cells": [
  {
   "cell_type": "code",
   "execution_count": 1,
   "metadata": {},
   "outputs": [],
   "source": [
    "import numpy as np"
   ]
  },
  {
   "cell_type": "code",
   "execution_count": 2,
   "metadata": {},
   "outputs": [],
   "source": [
    "# [0:5] regular with period about 60, \n",
    "# [5:14] constant acceleration of about 12, \n",
    "# [14:20] constant deceleration of about 8,\n",
    "# [20:24] regular with period about 30\n",
    "\n",
    "distances = np.array([0, 60.3, 121.1, 180.9, 241.9, 301.0, 307.3, 331.3, 366.9, 417.0, 478.7, 550.8, 632.6, 726.5, 831.6, 928.7, 1018.0, 1099.1, 1172.3, 1237.5, 1294.7, 1325.0, 1354.6, 1384.5, 1414.9])"
   ]
  },
  {
   "cell_type": "code",
   "execution_count": 3,
   "metadata": {},
   "outputs": [],
   "source": [
    "n = len(distances)\n",
    "\n",
    "velocities = np.array([y - x for (x, y) in zip(distances, distances[1:])])\n",
    "accelerations = np.array([y - x for (x, y) in zip(velocities, velocities[1:])])"
   ]
  },
  {
   "cell_type": "code",
   "execution_count": 24,
   "metadata": {},
   "outputs": [],
   "source": [
    "def r(j, k):\n",
    "    m = np.median(velocities[j:k])\n",
    "    return np.linalg.norm(velocities[j:k] - m, ord=1)\n",
    "\n",
    "def a(j, k):\n",
    "    m = np.median(accelerations[j:k-1])\n",
    "    return np.linalg.norm(accelerations[j:k-1] - m, ord=1)"
   ]
  },
  {
   "cell_type": "code",
   "execution_count": 28,
   "metadata": {},
   "outputs": [
    {
     "data": {
      "text/plain": [
       "[0, 5, 13, 20, 24]"
      ]
     },
     "execution_count": 28,
     "metadata": {},
     "output_type": "execute_result"
    }
   ],
   "source": [
    "λ = 10 # hyperparameter\n",
    "\n",
    "D = np.zeros(n)\n",
    "partitions = [[0], [0, 1]]\n",
    "\n",
    "for i in range(2, n):\n",
    "    min_k = 0\n",
    "    min_cost = min(r(0, i), a(0, i)) + λ\n",
    "    for k in range(2, i - 1):\n",
    "        cost = D[k] + min(r(k, i), a(k, i)) + λ\n",
    "        if cost < min_cost:\n",
    "            min_cost, min_k = cost, k\n",
    "    D[i] = min_cost\n",
    "    partitions.append(partitions[min_k] + [i])\n",
    "\n",
    "partitions[-1]"
   ]
  },
  {
   "cell_type": "code",
   "execution_count": 29,
   "metadata": {},
   "outputs": [],
   "source": [
    "# import matplotlib.pyplot as plt\n",
    "\n",
    "# %matplotlib inline\n",
    "\n",
    "# val = 0. # y-axis\n",
    "# plt.plot(timestamps, np.zeros_like(timestamps) + val, 'x')\n",
    "\n",
    "# plt.axvline(x=timestamps[partitions[n-1][0].end_index])\n",
    "# plt.axvline(x=timestamps[partitions[n-1][1].end_index])\n",
    "# plt.axvline(x=timestamps[partitions[n-1][2].end_index])\n",
    "# plt.axvline(x=timestamps[partitions[n-1][3].end_index])\n",
    "\n",
    "# first_loc = 0.75*timestamps[partitions[n-1][0].start_index]+0.25*timestamps[partitions[n-1][0].end_index]\n",
    "# second_loc = 0.75*timestamps[partitions[n-1][1].start_index]+0.25*timestamps[partitions[n-1][1].end_index]\n",
    "# third_loc = 0.75*timestamps[partitions[n-1][2].start_index]+0.25*timestamps[partitions[n-1][2].end_index]\n",
    "# fourth_loc = 0.75*timestamps[partitions[n-1][3].start_index]+0.25*timestamps[partitions[n-1][3].end_index]\n",
    "\n",
    "# first_text = partitions[n-1][0].kind + \": \" + str(partitions[n-1][0].value)\n",
    "# second_text = partitions[n-1][1].kind + \": \" + str(partitions[n-1][1].value)\n",
    "# third_text = partitions[n-1][2].kind + \": \" + str(partitions[n-1][2].value)\n",
    "# fourth_text = partitions[n-1][3].kind + \": \" + str(partitions[n-1][3].value)\n",
    "\n",
    "# plt.text(first_loc, 0.02, first_text, bbox=dict(facecolor='red', alpha=0.5))\n",
    "# plt.text(second_loc, 0.02, second_text, bbox=dict(facecolor='red', alpha=0.5))\n",
    "# plt.text(third_loc, 0.02, third_text, bbox=dict(facecolor='red', alpha=0.5))\n",
    "# plt.text(fourth_loc, 0.02, fourth_text, bbox=dict(facecolor='red', alpha=0.5))"
   ]
  }
 ],
 "metadata": {
  "kernelspec": {
   "display_name": "Python 3",
   "language": "python",
   "name": "python3"
  },
  "language_info": {
   "codemirror_mode": {
    "name": "ipython",
    "version": 3
   },
   "file_extension": ".py",
   "mimetype": "text/x-python",
   "name": "python",
   "nbconvert_exporter": "python",
   "pygments_lexer": "ipython3",
   "version": "3.7.0"
  }
 },
 "nbformat": 4,
 "nbformat_minor": 2
}
